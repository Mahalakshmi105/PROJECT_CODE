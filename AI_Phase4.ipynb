{
 "cells": [
  {
   "cell_type": "markdown",
   "id": "2c31c567",
   "metadata": {},
   "source": [
    "# PREDICTING HOUSE PRICES USING MACHINE LEARNING "
   ]
  },
  {
   "cell_type": "markdown",
   "id": "561f6766",
   "metadata": {},
   "source": [
    "# Phase 4 : Development Part 2"
   ]
  },
  {
   "cell_type": "markdown",
   "id": "9df43197",
   "metadata": {},
   "source": [
    "In this part We will continue building your project. \n",
    "\n",
    "Continue building the house price prediction model by \n",
    "\n",
    "Feature selection \n",
    "\n",
    "Model training \n",
    "\n",
    "Evaluation. \n",
    "\n",
    "\n",
    "\n",
    "Dataset Link: https://www.kaggle.com/datasets/vedavyasv/usa-housing "
   ]
  },
  {
   "cell_type": "markdown",
   "id": "e2079814",
   "metadata": {},
   "source": [
    "# I.IMPORTING THE NECESSARY LIBRARIES"
   ]
  },
  {
   "cell_type": "code",
   "execution_count": 1,
   "id": "20fa4607",
   "metadata": {},
   "outputs": [],
   "source": [
    "import pandas as pd\n",
    "from sklearn.svm import SVR\n",
    "from sklearn.preprocessing import StandardScaler\n",
    "from sklearn.model_selection import train_test_split\n",
    "from sklearn.metrics import mean_absolute_error, mean_squared_error, r2_score\n",
    "import matplotlib.pyplot as plt"
   ]
  },
  {
   "cell_type": "markdown",
   "id": "27d302a6",
   "metadata": {},
   "source": [
    "# II.LOADING THE DATASET"
   ]
  },
  {
   "cell_type": "code",
   "execution_count": 2,
   "id": "a701d009",
   "metadata": {},
   "outputs": [],
   "source": [
    "# Load the housing dataset\n",
    "dataset = pd.read_csv(\"USA_Housing.csv\")"
   ]
  },
  {
   "cell_type": "code",
   "execution_count": 3,
   "id": "a4fc3429",
   "metadata": {},
   "outputs": [
    {
     "data": {
      "text/html": [
       "<div>\n",
       "<style scoped>\n",
       "    .dataframe tbody tr th:only-of-type {\n",
       "        vertical-align: middle;\n",
       "    }\n",
       "\n",
       "    .dataframe tbody tr th {\n",
       "        vertical-align: top;\n",
       "    }\n",
       "\n",
       "    .dataframe thead th {\n",
       "        text-align: right;\n",
       "    }\n",
       "</style>\n",
       "<table border=\"1\" class=\"dataframe\">\n",
       "  <thead>\n",
       "    <tr style=\"text-align: right;\">\n",
       "      <th></th>\n",
       "      <th>Avg. Area Income</th>\n",
       "      <th>Avg. Area House Age</th>\n",
       "      <th>Avg. Area Number of Rooms</th>\n",
       "      <th>Avg. Area Number of Bedrooms</th>\n",
       "      <th>Area Population</th>\n",
       "      <th>Price</th>\n",
       "      <th>Address</th>\n",
       "    </tr>\n",
       "  </thead>\n",
       "  <tbody>\n",
       "    <tr>\n",
       "      <th>0</th>\n",
       "      <td>79545.458574</td>\n",
       "      <td>5.682861</td>\n",
       "      <td>7.009188</td>\n",
       "      <td>4.09</td>\n",
       "      <td>23086.800503</td>\n",
       "      <td>1.059034e+06</td>\n",
       "      <td>208 Michael Ferry Apt. 674\\nLaurabury, NE 3701...</td>\n",
       "    </tr>\n",
       "    <tr>\n",
       "      <th>1</th>\n",
       "      <td>79248.642455</td>\n",
       "      <td>6.002900</td>\n",
       "      <td>6.730821</td>\n",
       "      <td>3.09</td>\n",
       "      <td>40173.072174</td>\n",
       "      <td>1.505891e+06</td>\n",
       "      <td>188 Johnson Views Suite 079\\nLake Kathleen, CA...</td>\n",
       "    </tr>\n",
       "    <tr>\n",
       "      <th>2</th>\n",
       "      <td>61287.067179</td>\n",
       "      <td>5.865890</td>\n",
       "      <td>8.512727</td>\n",
       "      <td>5.13</td>\n",
       "      <td>36882.159400</td>\n",
       "      <td>1.058988e+06</td>\n",
       "      <td>9127 Elizabeth Stravenue\\nDanieltown, WI 06482...</td>\n",
       "    </tr>\n",
       "    <tr>\n",
       "      <th>3</th>\n",
       "      <td>63345.240046</td>\n",
       "      <td>7.188236</td>\n",
       "      <td>5.586729</td>\n",
       "      <td>3.26</td>\n",
       "      <td>34310.242831</td>\n",
       "      <td>1.260617e+06</td>\n",
       "      <td>USS Barnett\\nFPO AP 44820</td>\n",
       "    </tr>\n",
       "    <tr>\n",
       "      <th>4</th>\n",
       "      <td>59982.197226</td>\n",
       "      <td>5.040555</td>\n",
       "      <td>7.839388</td>\n",
       "      <td>4.23</td>\n",
       "      <td>26354.109472</td>\n",
       "      <td>6.309435e+05</td>\n",
       "      <td>USNS Raymond\\nFPO AE 09386</td>\n",
       "    </tr>\n",
       "  </tbody>\n",
       "</table>\n",
       "</div>"
      ],
      "text/plain": [
       "   Avg. Area Income  Avg. Area House Age  Avg. Area Number of Rooms  \\\n",
       "0      79545.458574             5.682861                   7.009188   \n",
       "1      79248.642455             6.002900                   6.730821   \n",
       "2      61287.067179             5.865890                   8.512727   \n",
       "3      63345.240046             7.188236                   5.586729   \n",
       "4      59982.197226             5.040555                   7.839388   \n",
       "\n",
       "   Avg. Area Number of Bedrooms  Area Population         Price  \\\n",
       "0                          4.09     23086.800503  1.059034e+06   \n",
       "1                          3.09     40173.072174  1.505891e+06   \n",
       "2                          5.13     36882.159400  1.058988e+06   \n",
       "3                          3.26     34310.242831  1.260617e+06   \n",
       "4                          4.23     26354.109472  6.309435e+05   \n",
       "\n",
       "                                             Address  \n",
       "0  208 Michael Ferry Apt. 674\\nLaurabury, NE 3701...  \n",
       "1  188 Johnson Views Suite 079\\nLake Kathleen, CA...  \n",
       "2  9127 Elizabeth Stravenue\\nDanieltown, WI 06482...  \n",
       "3                          USS Barnett\\nFPO AP 44820  \n",
       "4                         USNS Raymond\\nFPO AE 09386  "
      ]
     },
     "execution_count": 3,
     "metadata": {},
     "output_type": "execute_result"
    }
   ],
   "source": [
    "dataset.head()"
   ]
  },
  {
   "cell_type": "markdown",
   "id": "50f271ec",
   "metadata": {},
   "source": [
    "# III. DATA EXPLORATION"
   ]
  },
  {
   "cell_type": "code",
   "execution_count": 4,
   "id": "c0a43249",
   "metadata": {},
   "outputs": [
    {
     "name": "stdout",
     "output_type": "stream",
     "text": [
      "Summary Statistics for Numerical Columns:\n",
      "       Avg. Area Income  Avg. Area House Age  Avg. Area Number of Rooms  \\\n",
      "count       5000.000000          5000.000000                5000.000000   \n",
      "mean       68583.108984             5.977222                   6.987792   \n",
      "std        10657.991214             0.991456                   1.005833   \n",
      "min        17796.631190             2.644304                   3.236194   \n",
      "25%        61480.562388             5.322283                   6.299250   \n",
      "50%        68804.286404             5.970429                   7.002902   \n",
      "75%        75783.338666             6.650808                   7.665871   \n",
      "max       107701.748378             9.519088                  10.759588   \n",
      "\n",
      "       Avg. Area Number of Bedrooms  Area Population         Price  \n",
      "count                   5000.000000      5000.000000  5.000000e+03  \n",
      "mean                       3.981330     36163.516039  1.232073e+06  \n",
      "std                        1.234137      9925.650114  3.531176e+05  \n",
      "min                        2.000000       172.610686  1.593866e+04  \n",
      "25%                        3.140000     29403.928702  9.975771e+05  \n",
      "50%                        4.050000     36199.406689  1.232669e+06  \n",
      "75%                        4.490000     42861.290769  1.471210e+06  \n",
      "max                        6.500000     69621.713378  2.469066e+06  \n",
      "\n",
      "Summary Statistics for All Columns:\n",
      "        Avg. Area Income  Avg. Area House Age  Avg. Area Number of Rooms  \\\n",
      "count        5000.000000          5000.000000                5000.000000   \n",
      "unique               NaN                  NaN                        NaN   \n",
      "top                  NaN                  NaN                        NaN   \n",
      "freq                 NaN                  NaN                        NaN   \n",
      "mean        68583.108984             5.977222                   6.987792   \n",
      "std         10657.991214             0.991456                   1.005833   \n",
      "min         17796.631190             2.644304                   3.236194   \n",
      "25%         61480.562388             5.322283                   6.299250   \n",
      "50%         68804.286404             5.970429                   7.002902   \n",
      "75%         75783.338666             6.650808                   7.665871   \n",
      "max        107701.748378             9.519088                  10.759588   \n",
      "\n",
      "        Avg. Area Number of Bedrooms  Area Population         Price  \\\n",
      "count                    5000.000000      5000.000000  5.000000e+03   \n",
      "unique                           NaN              NaN           NaN   \n",
      "top                              NaN              NaN           NaN   \n",
      "freq                             NaN              NaN           NaN   \n",
      "mean                        3.981330     36163.516039  1.232073e+06   \n",
      "std                         1.234137      9925.650114  3.531176e+05   \n",
      "min                         2.000000       172.610686  1.593866e+04   \n",
      "25%                         3.140000     29403.928702  9.975771e+05   \n",
      "50%                         4.050000     36199.406689  1.232669e+06   \n",
      "75%                         4.490000     42861.290769  1.471210e+06   \n",
      "max                         6.500000     69621.713378  2.469066e+06   \n",
      "\n",
      "                                                  Address  \n",
      "count                                                5000  \n",
      "unique                                               5000  \n",
      "top     208 Michael Ferry Apt. 674\\nLaurabury, NE 3701...  \n",
      "freq                                                    1  \n",
      "mean                                                  NaN  \n",
      "std                                                   NaN  \n",
      "min                                                   NaN  \n",
      "25%                                                   NaN  \n",
      "50%                                                   NaN  \n",
      "75%                                                   NaN  \n",
      "max                                                   NaN  \n"
     ]
    }
   ],
   "source": [
    "# Generate dataset description for numerical columns\n",
    "numeric_description = dataset.describe()\n",
    "\n",
    "# Generate dataset description for all columns (including categorical)\n",
    "all_description = dataset.describe(include='all')\n",
    "\n",
    "# Print the descriptions\n",
    "print(\"Summary Statistics for Numerical Columns:\")\n",
    "print(numeric_description)\n",
    "\n",
    "print(\"\\nSummary Statistics for All Columns:\")\n",
    "print(all_description)"
   ]
  },
  {
   "cell_type": "markdown",
   "id": "078b1b9e",
   "metadata": {},
   "source": [
    "# IV. DATA PREPROCESSING"
   ]
  },
  {
   "cell_type": "markdown",
   "id": "b8e38f0a",
   "metadata": {},
   "source": [
    "i)HANDLING MISSING VALUES"
   ]
  },
  {
   "cell_type": "code",
   "execution_count": 5,
   "id": "31d91598",
   "metadata": {},
   "outputs": [],
   "source": [
    "# Drop rows with missing values\n",
    "dataset = dataset.dropna()\n",
    "# Impute missing values with the mean\n",
    "dataset = dataset.fillna(method='ffill')"
   ]
  },
  {
   "cell_type": "markdown",
   "id": "c2895bab",
   "metadata": {},
   "source": [
    "ii)HANDLING CATEGORICAL VALUES\n",
    "\n",
    "Dummy variables are used for categorical data.For continuous numerical variables like \"Avg. Area Income\" or \"Price\", no dummy variables are needed."
   ]
  },
  {
   "cell_type": "markdown",
   "id": "8b18b25d",
   "metadata": {},
   "source": [
    "iii)SCALLING THE DATA"
   ]
  },
  {
   "cell_type": "code",
   "execution_count": 6,
   "id": "7372b2bb",
   "metadata": {},
   "outputs": [],
   "source": [
    "# Scale the data\n",
    "scaler = StandardScaler()\n",
    "X_scaled = scaler.fit_transform(dataset.drop('Address', axis=1))"
   ]
  },
  {
   "cell_type": "markdown",
   "id": "6ceb0e96",
   "metadata": {},
   "source": [
    "# V. FEATURE SELECTION"
   ]
  },
  {
   "cell_type": "code",
   "execution_count": 7,
   "id": "b71105f7",
   "metadata": {},
   "outputs": [],
   "source": [
    "features = [\"Avg. Area Income\", \"Avg. Area Number of Rooms\", \"Avg. Area Number of Bedrooms\", \"Area Population\"]\n",
    "X = dataset[features]\n",
    "y = dataset[\"Price\"]"
   ]
  },
  {
   "cell_type": "markdown",
   "id": "db78ccad",
   "metadata": {},
   "source": [
    "->The features variable holds the list of features that will be used to train the model.\n",
    "\n",
    "->The X variable holds the data for the features.\n",
    "\n",
    "->The y variable holds the target variable, which is the house price."
   ]
  },
  {
   "cell_type": "markdown",
   "id": "b1ade2ad",
   "metadata": {},
   "source": [
    "# VI. SPLITTING THE DATA INTO TRAINING SETS AND TESTING SETS"
   ]
  },
  {
   "cell_type": "code",
   "execution_count": 8,
   "id": "ea9709e9",
   "metadata": {},
   "outputs": [],
   "source": [
    "# Split the data into training and test sets\n",
    "X_train, X_test, y_train, y_test = train_test_split(X_scaled, dataset['Price'], test_size=0.25, random_state=42)"
   ]
  },
  {
   "cell_type": "markdown",
   "id": "e0cf3c36",
   "metadata": {},
   "source": [
    "->X_scaled: This is the scaled feature data.\n",
    "\n",
    "->dataset['Price']: This is the target variable, which is the house price.\n",
    "\n",
    "->test_size=0.25: This specifies that 25% of the data will be included in the test set.\n",
    "\n",
    "->random_state=42: This ensures that the data is split in a reproducible way."
   ]
  },
  {
   "cell_type": "markdown",
   "id": "324c4716",
   "metadata": {},
   "source": [
    "# VII. CREATING A SVM MODEL(SUPPORT VECTOR MACHINE)"
   ]
  },
  {
   "cell_type": "markdown",
   "id": "2bf034a1",
   "metadata": {},
   "source": [
    "The svr variable is an instance of the SVR class from the sklearn.svm module. The SVR class is used to create support vector regression models.\n",
    "\n",
    "The fit() method is used to train the model on the training data. The X_train and y_train variables are passed to the fit() method. The fit() method uses the training data to learn the relationship between the features and the target variable.\n",
    "\n",
    "here is a very simple example using the given features:\n",
    "\n",
    "Let's say we have a dataset of houses with the following features:\n",
    "\n",
    "Avg. Area Income: $50,000\n",
    "Avg. Area Number of Rooms: 3\n",
    "Avg. Area Number of Bedrooms: 2\n",
    "Area Population: 10,000\n",
    "\n",
    "->The SVM model would find a hyperplane that best separates houses into different price ranges.\n",
    "\n",
    "->The hyperplane would likely be found to be at an average area income of $60,000.\n",
    "\n",
    "->Based on the above information, the SVM model would likely predict that the house is in the lower price range because the average area income of 50,000 is below the hyperplane of 60,000."
   ]
  },
  {
   "cell_type": "code",
   "execution_count": 9,
   "id": "dce32a03",
   "metadata": {},
   "outputs": [
    {
     "data": {
      "text/html": [
       "<style>#sk-container-id-1 {color: black;background-color: white;}#sk-container-id-1 pre{padding: 0;}#sk-container-id-1 div.sk-toggleable {background-color: white;}#sk-container-id-1 label.sk-toggleable__label {cursor: pointer;display: block;width: 100%;margin-bottom: 0;padding: 0.3em;box-sizing: border-box;text-align: center;}#sk-container-id-1 label.sk-toggleable__label-arrow:before {content: \"▸\";float: left;margin-right: 0.25em;color: #696969;}#sk-container-id-1 label.sk-toggleable__label-arrow:hover:before {color: black;}#sk-container-id-1 div.sk-estimator:hover label.sk-toggleable__label-arrow:before {color: black;}#sk-container-id-1 div.sk-toggleable__content {max-height: 0;max-width: 0;overflow: hidden;text-align: left;background-color: #f0f8ff;}#sk-container-id-1 div.sk-toggleable__content pre {margin: 0.2em;color: black;border-radius: 0.25em;background-color: #f0f8ff;}#sk-container-id-1 input.sk-toggleable__control:checked~div.sk-toggleable__content {max-height: 200px;max-width: 100%;overflow: auto;}#sk-container-id-1 input.sk-toggleable__control:checked~label.sk-toggleable__label-arrow:before {content: \"▾\";}#sk-container-id-1 div.sk-estimator input.sk-toggleable__control:checked~label.sk-toggleable__label {background-color: #d4ebff;}#sk-container-id-1 div.sk-label input.sk-toggleable__control:checked~label.sk-toggleable__label {background-color: #d4ebff;}#sk-container-id-1 input.sk-hidden--visually {border: 0;clip: rect(1px 1px 1px 1px);clip: rect(1px, 1px, 1px, 1px);height: 1px;margin: -1px;overflow: hidden;padding: 0;position: absolute;width: 1px;}#sk-container-id-1 div.sk-estimator {font-family: monospace;background-color: #f0f8ff;border: 1px dotted black;border-radius: 0.25em;box-sizing: border-box;margin-bottom: 0.5em;}#sk-container-id-1 div.sk-estimator:hover {background-color: #d4ebff;}#sk-container-id-1 div.sk-parallel-item::after {content: \"\";width: 100%;border-bottom: 1px solid gray;flex-grow: 1;}#sk-container-id-1 div.sk-label:hover label.sk-toggleable__label {background-color: #d4ebff;}#sk-container-id-1 div.sk-serial::before {content: \"\";position: absolute;border-left: 1px solid gray;box-sizing: border-box;top: 0;bottom: 0;left: 50%;z-index: 0;}#sk-container-id-1 div.sk-serial {display: flex;flex-direction: column;align-items: center;background-color: white;padding-right: 0.2em;padding-left: 0.2em;position: relative;}#sk-container-id-1 div.sk-item {position: relative;z-index: 1;}#sk-container-id-1 div.sk-parallel {display: flex;align-items: stretch;justify-content: center;background-color: white;position: relative;}#sk-container-id-1 div.sk-item::before, #sk-container-id-1 div.sk-parallel-item::before {content: \"\";position: absolute;border-left: 1px solid gray;box-sizing: border-box;top: 0;bottom: 0;left: 50%;z-index: -1;}#sk-container-id-1 div.sk-parallel-item {display: flex;flex-direction: column;z-index: 1;position: relative;background-color: white;}#sk-container-id-1 div.sk-parallel-item:first-child::after {align-self: flex-end;width: 50%;}#sk-container-id-1 div.sk-parallel-item:last-child::after {align-self: flex-start;width: 50%;}#sk-container-id-1 div.sk-parallel-item:only-child::after {width: 0;}#sk-container-id-1 div.sk-dashed-wrapped {border: 1px dashed gray;margin: 0 0.4em 0.5em 0.4em;box-sizing: border-box;padding-bottom: 0.4em;background-color: white;}#sk-container-id-1 div.sk-label label {font-family: monospace;font-weight: bold;display: inline-block;line-height: 1.2em;}#sk-container-id-1 div.sk-label-container {text-align: center;}#sk-container-id-1 div.sk-container {/* jupyter's `normalize.less` sets `[hidden] { display: none; }` but bootstrap.min.css set `[hidden] { display: none !important; }` so we also need the `!important` here to be able to override the default hidden behavior on the sphinx rendered scikit-learn.org. See: https://github.com/scikit-learn/scikit-learn/issues/21755 */display: inline-block !important;position: relative;}#sk-container-id-1 div.sk-text-repr-fallback {display: none;}</style><div id=\"sk-container-id-1\" class=\"sk-top-container\"><div class=\"sk-text-repr-fallback\"><pre>SVR()</pre><b>In a Jupyter environment, please rerun this cell to show the HTML representation or trust the notebook. <br />On GitHub, the HTML representation is unable to render, please try loading this page with nbviewer.org.</b></div><div class=\"sk-container\" hidden><div class=\"sk-item\"><div class=\"sk-estimator sk-toggleable\"><input class=\"sk-toggleable__control sk-hidden--visually\" id=\"sk-estimator-id-1\" type=\"checkbox\" checked><label for=\"sk-estimator-id-1\" class=\"sk-toggleable__label sk-toggleable__label-arrow\">SVR</label><div class=\"sk-toggleable__content\"><pre>SVR()</pre></div></div></div></div></div>"
      ],
      "text/plain": [
       "SVR()"
      ]
     },
     "execution_count": 9,
     "metadata": {},
     "output_type": "execute_result"
    }
   ],
   "source": [
    "# Create a SVM model\n",
    "svr = SVR()\n",
    "\n",
    "# Train the SVM model\n",
    "svr.fit(X_train, y_train)"
   ]
  },
  {
   "cell_type": "code",
   "execution_count": 10,
   "id": "2857a95c",
   "metadata": {},
   "outputs": [],
   "source": [
    "# Making predictions on the test set\n",
    "y_pred = svr.predict(X_test)"
   ]
  },
  {
   "cell_type": "markdown",
   "id": "c920849c",
   "metadata": {},
   "source": [
    "->The predict() method is used to make predictions on the test data.\n",
    "\n",
    "->The y_pred variable holds the predicted house prices."
   ]
  },
  {
   "cell_type": "markdown",
   "id": "85f8b6d1",
   "metadata": {},
   "source": [
    "# VIII. MODEL EVALUATION"
   ]
  },
  {
   "cell_type": "markdown",
   "id": "40a44c6d",
   "metadata": {},
   "source": [
    "Model evaluation is important because it helps to:\n",
    "\n",
    "i)Prevent overfitting.\n",
    "\n",
    "ii)Compare different models.\n",
    "\n",
    "iii)Identify areas for improvement.\n",
    "\n",
    "iv)Gain confidence in a model.\n",
    "\n",
    "In the case of the SVM model, model evaluation can be used to assess the model's ability to predict house prices. The MAE, MSE, and R² metrics can be used to measure the model's performance. \n",
    "\n",
    "MAE: How far are the predicted values from the actual values? Lower is better.\n",
    "    \n",
    "MSE: How far are the predicted values from the actual values (squared)? Lower is better.\n",
    "    \n",
    "R²: How well do the predicted values explain the actual values? Higher is better."
   ]
  },
  {
   "cell_type": "code",
   "execution_count": 11,
   "id": "b857bbe3",
   "metadata": {},
   "outputs": [
    {
     "name": "stdout",
     "output_type": "stream",
     "text": [
      "Mean Absolute Error: 275698.0696038255\n",
      "Mean Squared Error: 119696759028.28043\n",
      "R2 Score: 0.00022943787092966073\n"
     ]
    }
   ],
   "source": [
    "# Evaluate the model\n",
    "mae = mean_absolute_error(y_test, y_pred)\n",
    "mse = mean_squared_error(y_test, y_pred)\n",
    "r2 = r2_score(y_test, y_pred)\n",
    "\n",
    "print(\"Mean Absolute Error:\", mae)\n",
    "print(\"Mean Squared Error:\", mse)\n",
    "print(\"R2 Score:\", r2)"
   ]
  },
  {
   "cell_type": "markdown",
   "id": "67a4ff98",
   "metadata": {},
   "source": [
    "# IX. VISUALIZATION THE SVM MODEL"
   ]
  },
  {
   "cell_type": "markdown",
   "id": "c7524ed0",
   "metadata": {},
   "source": [
    "VISUALIZE THE PREDICTIONS Vs. ACTUAL VALUES\n",
    "\n",
    "To get a sense of how well your SVM model is performing, We can create scatter plots to compare the predicted house prices with the actual house prices from the test set. This will help us understand how closely our model's predictions align with the true values.\n",
    "\n",
    "This scatter plot will show how well our predictions match the actual values. In an ideal scenario, the points would form a straight line with a slope of 1."
   ]
  },
  {
   "cell_type": "code",
   "execution_count": 12,
   "id": "948ea011",
   "metadata": {},
   "outputs": [
    {
     "data": {
      "image/png": "[encoded data removed]",
      "text/plain": [
       "<Figure size 640x480 with 1 Axes>"
      ]
     },
     "metadata": {},
     "output_type": "display_data"
    }
   ],
   "source": [
    "# Scatter plot for actual vs. predicted prices\n",
    "plt.scatter(y_test, y_pred)\n",
    "plt.xlabel(\"Actual Prices\")\n",
    "plt.ylabel(\"Predicted Prices\")\n",
    "plt.title(\"Actual Prices vs. Predicted Prices\")\n",
    "plt.show()"
   ]
  },
  {
   "cell_type": "markdown",
   "id": "dd96fca4",
   "metadata": {},
   "source": [
    "RESIDUAL ANALYSIS\n",
    "\n",
    "Another important aspect of model evaluation is examining the residuals, which are the differences between the actual and predicted values. A well-fitted model should have residuals close to zero and exhibit homoscedasticity (consistent spread of residuals) and normality.\n",
    "\n",
    "This plot helps US check for patterns in the residuals. Ideally, the residuals should be randomly distributed around zero."
   ]
  },
  {
   "cell_type": "code",
   "execution_count": 13,
   "id": "37b0dd25",
   "metadata": {},
   "outputs": [
    {
     "data": {
      "image/png": "[encoded data removed]",
      "text/plain": [
       "<Figure size 640x480 with 1 Axes>"
      ]
     },
     "metadata": {},
     "output_type": "display_data"
    }
   ],
   "source": [
    "# Calculate residuals\n",
    "residuals = y_test - y_pred\n",
    "\n",
    "# Plot residuals\n",
    "plt.scatter(y_pred, residuals)\n",
    "plt.xlabel(\"Predicted Prices\")\n",
    "plt.ylabel(\"Residuals\")\n",
    "plt.title(\"Residuals vs. Predicted Prices\")\n",
    "plt.axhline(y=0, color='r', linestyle='-')\n",
    "plt.show()"
   ]
  }
 ],
 "metadata": {
  "kernelspec": {
   "display_name": "Python 3 (ipykernel)",
   "language": "python",
   "name": "python3"
  },
  "language_info": {
   "codemirror_mode": {
    "name": "ipython",
    "version": 3
   },
   "file_extension": ".py",
   "mimetype": "text/x-python",
   "name": "python",
   "nbconvert_exporter": "python",
   "pygments_lexer": "ipython3",
   "version": "3.11.2"
  }
 },
 "nbformat": 4,
 "nbformat_minor": 5
}
